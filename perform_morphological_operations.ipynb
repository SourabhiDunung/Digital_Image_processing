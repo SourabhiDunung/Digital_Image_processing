{
  "nbformat": 4,
  "nbformat_minor": 0,
  "metadata": {
    "colab": {
      "provenance": [],
      "authorship_tag": "ABX9TyOq5TCr3MvYXq41xE/FhQKD",
      "include_colab_link": true
    },
    "kernelspec": {
      "name": "python3",
      "display_name": "Python 3"
    },
    "language_info": {
      "name": "python"
    }
  },
  "cells": [
    {
      "cell_type": "markdown",
      "metadata": {
        "id": "view-in-github",
        "colab_type": "text"
      },
      "source": [
        "<a href=\"https://colab.research.google.com/github/SourabhiDunung/Digital_Image_processing/blob/main/perform_morphological_operations.ipynb\" target=\"_parent\"><img src=\"https://colab.research.google.com/assets/colab-badge.svg\" alt=\"Open In Colab\"/></a>"
      ]
    },
    {
      "cell_type": "markdown",
      "source": [
        "importing image"
      ],
      "metadata": {
        "id": "_bh_AK0urHQh"
      }
    },
    {
      "cell_type": "code",
      "source": [
        "import cv2\n",
        "import numpy as np\n",
        "from google.colab.patches import cv2_imshow\n",
        "\n",
        "img = cv2.imread('binaryimagepaint2.png')\n",
        "cv2_imshow(img)\n",
        "print('Image Dimensions :', img.shape)"
      ],
      "metadata": {
        "colab": {
          "base_uri": "https://localhost:8080/",
          "height": 305
        },
        "id": "2ebuiYL9tAeA",
        "outputId": "914571a7-094e-4294-fcfb-8ade177342ae"
      },
      "execution_count": null,
      "outputs": [
        {
          "output_type": "display_data",
          "data": {
            "text/plain": [
              "<PIL.Image.Image image mode=RGB size=328x271>"
            ],
            "image/png": "[encoded data removed]"
          },
          "metadata": {}
        },
        {
          "output_type": "stream",
          "name": "stdout",
          "text": [
            "Image Dimensions : (271, 328, 3)\n"
          ]
        }
      ]
    },
    {
      "cell_type": "markdown",
      "source": [
        "Define Structural element"
      ],
      "metadata": {
        "id": "fzlYIumjublZ"
      }
    },
    {
      "cell_type": "code",
      "source": [
        "kernel = np.ones((3,3))\n",
        "print(kernel)"
      ],
      "metadata": {
        "colab": {
          "base_uri": "https://localhost:8080/"
        },
        "id": "c3K7M96Bukl1",
        "outputId": "11d7173b-120f-4e84-ddd5-4c3af7efdf16"
      },
      "execution_count": null,
      "outputs": [
        {
          "output_type": "stream",
          "name": "stdout",
          "text": [
            "[[1. 1. 1.]\n",
            " [1. 1. 1.]\n",
            " [1. 1. 1.]]\n"
          ]
        }
      ]
    },
    {
      "cell_type": "markdown",
      "source": [
        "Dialation"
      ],
      "metadata": {
        "id": "6b4U77aBwMAf"
      }
    },
    {
      "cell_type": "code",
      "source": [
        "dilation = cv2.dilate(img,kernel,iterations = 1)\n",
        "cv2_imshow(dilation)"
      ],
      "metadata": {
        "colab": {
          "base_uri": "https://localhost:8080/",
          "height": 288
        },
        "id": "p1CCkj7DwOGm",
        "outputId": "00ce25de-cda5-4823-db34-882f8a57dae3"
      },
      "execution_count": null,
      "outputs": [
        {
          "output_type": "display_data",
          "data": {
            "text/plain": [
              "<PIL.Image.Image image mode=RGB size=328x271>"
            ],
            "image/png": "[encoded data removed]"
          },
          "metadata": {}
        }
      ]
    },
    {
      "cell_type": "markdown",
      "source": [
        "Erosion"
      ],
      "metadata": {
        "id": "vPqWOWm66DjH"
      }
    },
    {
      "cell_type": "code",
      "source": [
        "erosion = cv2.erode(img,kernel,iterations = 1)\n",
        "cv2_imshow(erosion)"
      ],
      "metadata": {
        "colab": {
          "base_uri": "https://localhost:8080/",
          "height": 288
        },
        "id": "gNH73bR1xxiN",
        "outputId": "6490600d-a0e9-4528-ed6c-00db0b5cdf7a"
      },
      "execution_count": null,
      "outputs": [
        {
          "output_type": "display_data",
          "data": {
            "text/plain": [
              "<PIL.Image.Image image mode=RGB size=328x271>"
            ],
            "image/png": "[encoded data removed]"
          },
          "metadata": {}
        }
      ]
    },
    {
      "cell_type": "markdown",
      "source": [
        "Opening"
      ],
      "metadata": {
        "id": "v5vJGc9J6GOt"
      }
    },
    {
      "cell_type": "code",
      "source": [
        "opening = cv2.morphologyEx(img, cv2.MORPH_OPEN, kernel)\n",
        "cv2_imshow(opening)"
      ],
      "metadata": {
        "colab": {
          "base_uri": "https://localhost:8080/",
          "height": 288
        },
        "id": "v_OpxTQYyOvV",
        "outputId": "17bc2e3b-4fc5-4346-a829-4d1ddb03537c"
      },
      "execution_count": null,
      "outputs": [
        {
          "output_type": "display_data",
          "data": {
            "text/plain": [
              "<PIL.Image.Image image mode=RGB size=328x271>"
            ],
            "image/png": "[encoded data removed]"
          },
          "metadata": {}
        }
      ]
    },
    {
      "cell_type": "markdown",
      "source": [
        "closing"
      ],
      "metadata": {
        "id": "q-VwTqL66IzR"
      }
    },
    {
      "cell_type": "code",
      "source": [
        "closing = cv2.morphologyEx(img, cv2.MORPH_CLOSE, kernel)\n",
        "cv2_imshow(closing)"
      ],
      "metadata": {
        "colab": {
          "base_uri": "https://localhost:8080/",
          "height": 288
        },
        "id": "tFG3D67syxUF",
        "outputId": "d9d509ff-4b17-4554-dedb-5269d6ef108d"
      },
      "execution_count": null,
      "outputs": [
        {
          "output_type": "display_data",
          "data": {
            "text/plain": [
              "<PIL.Image.Image image mode=RGB size=328x271>"
            ],
            "image/png": "[encoded data removed]"
          },
          "metadata": {}
        }
      ]
    }
  ]
}